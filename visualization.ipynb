{
 "cells": [
  {
   "attachments": {},
   "cell_type": "markdown",
   "metadata": {},
   "source": [
    "# 기본적인 Data visualization\n",
    "[Data structures and algoritms - Geeks for geeks](https://www.geeksforgeeks.org/data-visualization-with-python/)\n",
    "\n",
    "- Matplotlib\n",
    "- Seaborn\n",
    "- Bokeh\n",
    "- Plotly"
   ]
  },
  {
   "cell_type": "code",
   "execution_count": null,
   "metadata": {},
   "outputs": [],
   "source": []
  }
 ],
 "metadata": {
  "kernelspec": {
   "display_name": ".venv",
   "language": "python",
   "name": "python3"
  },
  "language_info": {
   "name": "python",
   "version": "3.9.6 (default, Oct 18 2022, 12:41:40) \n[Clang 14.0.0 (clang-1400.0.29.202)]"
  },
  "orig_nbformat": 4,
  "vscode": {
   "interpreter": {
    "hash": "cec717e2e937dc6d8e2551d21a2cc8770108e2ead4a713fa14f09c8674c35852"
   }
  }
 },
 "nbformat": 4,
 "nbformat_minor": 2
}
